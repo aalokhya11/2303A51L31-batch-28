{
  "nbformat": 4,
  "nbformat_minor": 0,
  "metadata": {
    "colab": {
      "provenance": [],
      "toc_visible": true
    },
    "kernelspec": {
      "name": "python3",
      "display_name": "Python 3"
    },
    "language_info": {
      "name": "python"
    }
  },
  "cells": [
    {
      "cell_type": "code",
      "execution_count": 7,
      "metadata": {
        "colab": {
          "base_uri": "https://localhost:8080/"
        },
        "id": "weeILlr255vZ",
        "outputId": "def25895-21d0-4d97-9e6e-53123ee199ab"
      },
      "outputs": [
        {
          "output_type": "stream",
          "name": "stdout",
          "text": [
            "BFS traversal order starting from '0': ['1', '3', '4', '5', '2', '0']\n"
          ]
        }
      ],
      "source": [
        "graph = {\n",
        "    \"0\": [\"1\", \"3\"],\n",
        "    \"1\": [\"3\", \"4\"],\n",
        "    \"2\": [\"4\", \"5\"],\n",
        "    \"3\": [\"5\", \"2\"],\n",
        "    \"4\": [ ],\n",
        "    \"5\": [ ],\n",
        "\n",
        "}\n",
        "\n",
        "start = \"0\"\n",
        "\n",
        "def bfs(graph, start):\n",
        "\n",
        "\n",
        "  visited = set()\n",
        "  queue = [start]\n",
        "\n",
        "  while queue:\n",
        "    vertex = queue.pop(0)\n",
        "    visited.add(vertex)\n",
        "\n",
        "\n",
        "    for neighbor in graph[vertex]:\n",
        "      if neighbor not in visited:\n",
        "        queue.append(neighbor)\n",
        "\n",
        "  return list(visited)\n",
        "\n",
        "traversal_order = bfs(graph, start)\n",
        "print(f\"BFS traversal order starting from '{start}': {traversal_order}\")\n"
      ]
    },
    {
      "cell_type": "code",
      "source": [
        "graph = {\n",
        "    \"A\": [\"B\"],\n",
        "    \"B\": [\"A\", \"S\"],\n",
        "    \"C\": [\"C\", \"S\"],\n",
        "    \"D\": [\"C\", \"F\"],\n",
        "    \"E\": [\"C\",\"D\"],\n",
        "    \"F\": [\"C\", \"E\"],\n",
        "    \"G\": [\"E\",\"H\"],\n",
        "    \"H\": [\"F\",\"G\"],\n",
        "    \"S\": [\"G\",\"H\"],\n",
        "\n",
        "}\n",
        "\n",
        "start = \"A\"\n",
        "\n",
        "def dfs(graph, start):\n",
        "\n",
        "\n",
        "\n",
        "    visited = set()\n",
        "    stack = [start]\n",
        "    traversal_order = []\n",
        "\n",
        "    while stack:\n",
        "        vertex = stack.pop()\n",
        "\n",
        "        if vertex not in visited:\n",
        "            visited.add(vertex)\n",
        "            traversal_order.append(vertex)\n",
        "\n",
        "\n",
        "            stack.extend(reversed(graph[vertex]))\n",
        "\n",
        "    return traversal_order\n",
        "\n",
        "traversal_order = dfs(graph, start)\n",
        "print(f\"DFS traversal order starting from '{start}': {traversal_order}\")\n"
      ],
      "metadata": {
        "colab": {
          "base_uri": "https://localhost:8080/"
        },
        "id": "cIxxN4LoCOIo",
        "outputId": "16c43fd4-42c5-44b1-af60-4fb6a0f3b1d9"
      },
      "execution_count": 16,
      "outputs": [
        {
          "output_type": "stream",
          "name": "stdout",
          "text": [
            "DFS traversal order starting from 'A': ['A', 'B', 'S', 'G', 'E', 'C', 'D', 'F', 'H']\n"
          ]
        }
      ]
    },
    {
      "cell_type": "code",
      "source": [],
      "metadata": {
        "id": "cpfvR9L4K8va"
      },
      "execution_count": 17,
      "outputs": []
    }
  ]
}